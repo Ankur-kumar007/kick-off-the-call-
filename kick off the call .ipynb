{
 "cells": [
  {
   "cell_type": "code",
   "execution_count": 72,
   "id": "db6b5e64-adb5-4bc8-8ace-01407c3dedef",
   "metadata": {},
   "outputs": [],
   "source": [
    "import pandas as pd"
   ]
  },
  {
   "cell_type": "code",
   "execution_count": 73,
   "id": "c1cd0454-663f-4c22-ac58-aab169b9d135",
   "metadata": {},
   "outputs": [],
   "source": [
    "import numpy as np\n",
    "import matplotlib.pyplot as plt\n",
    "import seaborn as sns"
   ]
  },
  {
   "cell_type": "code",
   "execution_count": 74,
   "id": "de48e4d6-79ff-441b-a1ef-cccdc9ad8bea",
   "metadata": {},
   "outputs": [
    {
     "name": "stderr",
     "output_type": "stream",
     "text": [
      "<>:1: SyntaxWarning: invalid escape sequence '\\c'\n",
      "<>:1: SyntaxWarning: invalid escape sequence '\\c'\n",
      "C:\\Users\\ankur\\AppData\\Local\\Temp\\ipykernel_14352\\3526457084.py:1: SyntaxWarning: invalid escape sequence '\\c'\n",
      "  data = pd.read_csv('D:\\csv\\\\experiment new.csv')\n"
     ]
    },
    {
     "name": "stdout",
     "output_type": "stream",
     "text": [
      "            id    qid1    qid2  \\\n",
      "0            0       1       2   \n",
      "1            1       3       4   \n",
      "2            2       5       6   \n",
      "3            3       7       8   \n",
      "4            4       9      10   \n",
      "...        ...     ...     ...   \n",
      "404285  404285  433578  379845   \n",
      "404286  404286   18840  155606   \n",
      "404287  404287  537928  537929   \n",
      "404288  404288  537930  537931   \n",
      "404289  404289  537932  537933   \n",
      "\n",
      "                                                question1  \\\n",
      "0       What is the step by step guide to invest in sh...   \n",
      "1       What is the story of Kohinoor (Koh-i-Noor) Dia...   \n",
      "2       How can I increase the speed of my internet co...   \n",
      "3       Why am I mentally very lonely? How can I solve...   \n",
      "4       Which one dissolve in water quikly sugar, salt...   \n",
      "...                                                   ...   \n",
      "404285  How many keywords are there in the Racket prog...   \n",
      "404286          Do you believe there is life after death?   \n",
      "404287                                  What is one coin?   \n",
      "404288  What is the approx annual cost of living while...   \n",
      "404289              What is like to have sex with cousin?   \n",
      "\n",
      "                                                question2  is_duplicate  \n",
      "0       What is the step by step guide to invest in sh...             0  \n",
      "1       What would happen if the Indian government sto...             0  \n",
      "2       How can Internet speed be increased by hacking...             0  \n",
      "3       Find the remainder when [math]23^{24}[/math] i...             0  \n",
      "4                 Which fish would survive in salt water?             0  \n",
      "...                                                   ...           ...  \n",
      "404285  How many keywords are there in PERL Programmin...             0  \n",
      "404286         Is it true that there is life after death?             1  \n",
      "404287                                  What's this coin?             0  \n",
      "404288  I am having little hairfall problem but I want...             0  \n",
      "404289      What is it like to have sex with your cousin?             0  \n",
      "\n",
      "[404290 rows x 6 columns]\n"
     ]
    }
   ],
   "source": [
    "data = pd.read_csv('D:\\csv\\\\experiment new.csv')\n",
    "print(data)"
   ]
  },
  {
   "cell_type": "code",
   "execution_count": 75,
   "id": "3d803802-4278-47f2-8b06-dae3e7cc43a3",
   "metadata": {},
   "outputs": [
    {
     "data": {
      "text/plain": [
       "(404290, 6)"
      ]
     },
     "execution_count": 75,
     "metadata": {},
     "output_type": "execute_result"
    }
   ],
   "source": [
    "df = pd.read_csv('experiment new.csv')\n",
    "df.shape"
   ]
  },
  {
   "cell_type": "code",
   "execution_count": 76,
   "id": "e35f4e02-598e-4e50-8323-28cba701ef61",
   "metadata": {},
   "outputs": [
    {
     "data": {
      "text/html": [
       "<div>\n",
       "<style scoped>\n",
       "    .dataframe tbody tr th:only-of-type {\n",
       "        vertical-align: middle;\n",
       "    }\n",
       "\n",
       "    .dataframe tbody tr th {\n",
       "        vertical-align: top;\n",
       "    }\n",
       "\n",
       "    .dataframe thead th {\n",
       "        text-align: right;\n",
       "    }\n",
       "</style>\n",
       "<table border=\"1\" class=\"dataframe\">\n",
       "  <thead>\n",
       "    <tr style=\"text-align: right;\">\n",
       "      <th></th>\n",
       "      <th>id</th>\n",
       "      <th>qid1</th>\n",
       "      <th>qid2</th>\n",
       "      <th>question1</th>\n",
       "      <th>question2</th>\n",
       "      <th>is_duplicate</th>\n",
       "    </tr>\n",
       "  </thead>\n",
       "  <tbody>\n",
       "    <tr>\n",
       "      <th>0</th>\n",
       "      <td>0</td>\n",
       "      <td>1</td>\n",
       "      <td>2</td>\n",
       "      <td>What is the step by step guide to invest in sh...</td>\n",
       "      <td>What is the step by step guide to invest in sh...</td>\n",
       "      <td>0</td>\n",
       "    </tr>\n",
       "    <tr>\n",
       "      <th>1</th>\n",
       "      <td>1</td>\n",
       "      <td>3</td>\n",
       "      <td>4</td>\n",
       "      <td>What is the story of Kohinoor (Koh-i-Noor) Dia...</td>\n",
       "      <td>What would happen if the Indian government sto...</td>\n",
       "      <td>0</td>\n",
       "    </tr>\n",
       "    <tr>\n",
       "      <th>2</th>\n",
       "      <td>2</td>\n",
       "      <td>5</td>\n",
       "      <td>6</td>\n",
       "      <td>How can I increase the speed of my internet co...</td>\n",
       "      <td>How can Internet speed be increased by hacking...</td>\n",
       "      <td>0</td>\n",
       "    </tr>\n",
       "    <tr>\n",
       "      <th>3</th>\n",
       "      <td>3</td>\n",
       "      <td>7</td>\n",
       "      <td>8</td>\n",
       "      <td>Why am I mentally very lonely? How can I solve...</td>\n",
       "      <td>Find the remainder when [math]23^{24}[/math] i...</td>\n",
       "      <td>0</td>\n",
       "    </tr>\n",
       "    <tr>\n",
       "      <th>4</th>\n",
       "      <td>4</td>\n",
       "      <td>9</td>\n",
       "      <td>10</td>\n",
       "      <td>Which one dissolve in water quikly sugar, salt...</td>\n",
       "      <td>Which fish would survive in salt water?</td>\n",
       "      <td>0</td>\n",
       "    </tr>\n",
       "  </tbody>\n",
       "</table>\n",
       "</div>"
      ],
      "text/plain": [
       "   id  qid1  qid2                                          question1  \\\n",
       "0   0     1     2  What is the step by step guide to invest in sh...   \n",
       "1   1     3     4  What is the story of Kohinoor (Koh-i-Noor) Dia...   \n",
       "2   2     5     6  How can I increase the speed of my internet co...   \n",
       "3   3     7     8  Why am I mentally very lonely? How can I solve...   \n",
       "4   4     9    10  Which one dissolve in water quikly sugar, salt...   \n",
       "\n",
       "                                           question2  is_duplicate  \n",
       "0  What is the step by step guide to invest in sh...             0  \n",
       "1  What would happen if the Indian government sto...             0  \n",
       "2  How can Internet speed be increased by hacking...             0  \n",
       "3  Find the remainder when [math]23^{24}[/math] i...             0  \n",
       "4            Which fish would survive in salt water?             0  "
      ]
     },
     "execution_count": 76,
     "metadata": {},
     "output_type": "execute_result"
    }
   ],
   "source": [
    "df.head()"
   ]
  },
  {
   "cell_type": "code",
   "execution_count": 77,
   "id": "e8473533-5823-4cfd-9cbd-27de2a9ed6c7",
   "metadata": {},
   "outputs": [
    {
     "name": "stdout",
     "output_type": "stream",
     "text": [
      "<class 'pandas.core.frame.DataFrame'>\n",
      "RangeIndex: 404290 entries, 0 to 404289\n",
      "Data columns (total 6 columns):\n",
      " #   Column        Non-Null Count   Dtype \n",
      "---  ------        --------------   ----- \n",
      " 0   id            404290 non-null  int64 \n",
      " 1   qid1          404290 non-null  int64 \n",
      " 2   qid2          404290 non-null  int64 \n",
      " 3   question1     404289 non-null  object\n",
      " 4   question2     404288 non-null  object\n",
      " 5   is_duplicate  404290 non-null  int64 \n",
      "dtypes: int64(4), object(2)\n",
      "memory usage: 18.5+ MB\n"
     ]
    }
   ],
   "source": [
    "df.info()"
   ]
  },
  {
   "cell_type": "code",
   "execution_count": 78,
   "id": "ba6cbb34-0db9-4a5a-b5ce-e606306f7957",
   "metadata": {},
   "outputs": [
    {
     "data": {
      "text/html": [
       "<div>\n",
       "<style scoped>\n",
       "    .dataframe tbody tr th:only-of-type {\n",
       "        vertical-align: middle;\n",
       "    }\n",
       "\n",
       "    .dataframe tbody tr th {\n",
       "        vertical-align: top;\n",
       "    }\n",
       "\n",
       "    .dataframe thead th {\n",
       "        text-align: right;\n",
       "    }\n",
       "</style>\n",
       "<table border=\"1\" class=\"dataframe\">\n",
       "  <thead>\n",
       "    <tr style=\"text-align: right;\">\n",
       "      <th></th>\n",
       "      <th>id</th>\n",
       "      <th>qid1</th>\n",
       "      <th>qid2</th>\n",
       "      <th>question1</th>\n",
       "      <th>question2</th>\n",
       "      <th>is_duplicate</th>\n",
       "    </tr>\n",
       "  </thead>\n",
       "  <tbody>\n",
       "    <tr>\n",
       "      <th>176027</th>\n",
       "      <td>176027</td>\n",
       "      <td>270929</td>\n",
       "      <td>270930</td>\n",
       "      <td>If my gravity reversed polarity and a object t...</td>\n",
       "      <td>Would you pay to hike in a private commercial ...</td>\n",
       "      <td>0</td>\n",
       "    </tr>\n",
       "    <tr>\n",
       "      <th>131915</th>\n",
       "      <td>131915</td>\n",
       "      <td>22137</td>\n",
       "      <td>19587</td>\n",
       "      <td>Should we report Quorans who spout crackpot Ph...</td>\n",
       "      <td>In a simple and more general language, what is...</td>\n",
       "      <td>0</td>\n",
       "    </tr>\n",
       "    <tr>\n",
       "      <th>338443</th>\n",
       "      <td>338443</td>\n",
       "      <td>104567</td>\n",
       "      <td>116988</td>\n",
       "      <td>Now that Trump has won and Republicans control...</td>\n",
       "      <td>What will happen now that President-elect Dona...</td>\n",
       "      <td>1</td>\n",
       "    </tr>\n",
       "    <tr>\n",
       "      <th>302176</th>\n",
       "      <td>302176</td>\n",
       "      <td>153808</td>\n",
       "      <td>122312</td>\n",
       "      <td>How do I can boost my self confidence?</td>\n",
       "      <td>How can I improve my confidence?</td>\n",
       "      <td>1</td>\n",
       "    </tr>\n",
       "    <tr>\n",
       "      <th>150949</th>\n",
       "      <td>150949</td>\n",
       "      <td>237453</td>\n",
       "      <td>237454</td>\n",
       "      <td>Which is the best moisturizing lipstick?</td>\n",
       "      <td>What are some good hypo-allergenic lipsticks?</td>\n",
       "      <td>0</td>\n",
       "    </tr>\n",
       "    <tr>\n",
       "      <th>166439</th>\n",
       "      <td>166439</td>\n",
       "      <td>45931</td>\n",
       "      <td>24462</td>\n",
       "      <td>How can I get a girlfriend easily?</td>\n",
       "      <td>What are some ways to get a girlfriend?</td>\n",
       "      <td>1</td>\n",
       "    </tr>\n",
       "    <tr>\n",
       "      <th>191214</th>\n",
       "      <td>191214</td>\n",
       "      <td>290489</td>\n",
       "      <td>290490</td>\n",
       "      <td>Can I sit for placement with CSE/IT students b...</td>\n",
       "      <td>Can I use C++ for web development? If yes wher...</td>\n",
       "      <td>0</td>\n",
       "    </tr>\n",
       "    <tr>\n",
       "      <th>285922</th>\n",
       "      <td>285922</td>\n",
       "      <td>406419</td>\n",
       "      <td>406420</td>\n",
       "      <td>How can I extract area data Google maps?</td>\n",
       "      <td>How can I extract area data from Google Maps?</td>\n",
       "      <td>1</td>\n",
       "    </tr>\n",
       "    <tr>\n",
       "      <th>282935</th>\n",
       "      <td>282935</td>\n",
       "      <td>46447</td>\n",
       "      <td>46466</td>\n",
       "      <td>How do I know know whether my gf is cheating m...</td>\n",
       "      <td>How will you know if your partner was or still...</td>\n",
       "      <td>1</td>\n",
       "    </tr>\n",
       "    <tr>\n",
       "      <th>403237</th>\n",
       "      <td>403237</td>\n",
       "      <td>536808</td>\n",
       "      <td>536809</td>\n",
       "      <td>What different kinds of media make up the press?</td>\n",
       "      <td>Can I make my own press pass?</td>\n",
       "      <td>0</td>\n",
       "    </tr>\n",
       "  </tbody>\n",
       "</table>\n",
       "</div>"
      ],
      "text/plain": [
       "            id    qid1    qid2  \\\n",
       "176027  176027  270929  270930   \n",
       "131915  131915   22137   19587   \n",
       "338443  338443  104567  116988   \n",
       "302176  302176  153808  122312   \n",
       "150949  150949  237453  237454   \n",
       "166439  166439   45931   24462   \n",
       "191214  191214  290489  290490   \n",
       "285922  285922  406419  406420   \n",
       "282935  282935   46447   46466   \n",
       "403237  403237  536808  536809   \n",
       "\n",
       "                                                question1  \\\n",
       "176027  If my gravity reversed polarity and a object t...   \n",
       "131915  Should we report Quorans who spout crackpot Ph...   \n",
       "338443  Now that Trump has won and Republicans control...   \n",
       "302176             How do I can boost my self confidence?   \n",
       "150949           Which is the best moisturizing lipstick?   \n",
       "166439                 How can I get a girlfriend easily?   \n",
       "191214  Can I sit for placement with CSE/IT students b...   \n",
       "285922           How can I extract area data Google maps?   \n",
       "282935  How do I know know whether my gf is cheating m...   \n",
       "403237   What different kinds of media make up the press?   \n",
       "\n",
       "                                                question2  is_duplicate  \n",
       "176027  Would you pay to hike in a private commercial ...             0  \n",
       "131915  In a simple and more general language, what is...             0  \n",
       "338443  What will happen now that President-elect Dona...             1  \n",
       "302176                   How can I improve my confidence?             1  \n",
       "150949      What are some good hypo-allergenic lipsticks?             0  \n",
       "166439            What are some ways to get a girlfriend?             1  \n",
       "191214  Can I use C++ for web development? If yes wher...             0  \n",
       "285922      How can I extract area data from Google Maps?             1  \n",
       "282935  How will you know if your partner was or still...             1  \n",
       "403237                      Can I make my own press pass?             0  "
      ]
     },
     "execution_count": 78,
     "metadata": {},
     "output_type": "execute_result"
    }
   ],
   "source": [
    "df.sample(10)"
   ]
  },
  {
   "cell_type": "code",
   "execution_count": 79,
   "id": "3d15d87c-3884-46b4-816c-f18c1945c8e1",
   "metadata": {},
   "outputs": [
    {
     "data": {
      "text/plain": [
       "id              0\n",
       "qid1            0\n",
       "qid2            0\n",
       "question1       1\n",
       "question2       2\n",
       "is_duplicate    0\n",
       "dtype: int64"
      ]
     },
     "execution_count": 79,
     "metadata": {},
     "output_type": "execute_result"
    }
   ],
   "source": [
    "df.isnull().sum()"
   ]
  },
  {
   "cell_type": "code",
   "execution_count": 80,
   "id": "7303fdf2-5cb0-470c-93a4-2b55ef32dd26",
   "metadata": {},
   "outputs": [
    {
     "data": {
      "text/plain": [
       "0"
      ]
     },
     "execution_count": 80,
     "metadata": {},
     "output_type": "execute_result"
    }
   ],
   "source": [
    "df.duplicated().sum()"
   ]
  },
  {
   "cell_type": "code",
   "execution_count": 81,
   "id": "c2eb069c-cb20-4633-98d9-d51f7105b9b4",
   "metadata": {},
   "outputs": [
    {
     "name": "stdout",
     "output_type": "stream",
     "text": [
      "is_duplicate\n",
      "0    255027\n",
      "1    149263\n",
      "Name: count, dtype: int64\n"
     ]
    }
   ],
   "source": [
    "print(df['is_duplicate'].value_counts())"
   ]
  },
  {
   "cell_type": "code",
   "execution_count": 82,
   "id": "36d30d5e-1da2-444e-a9f1-5594b2bc0ccc",
   "metadata": {},
   "outputs": [
    {
     "name": "stdout",
     "output_type": "stream",
     "text": [
      "is_duplicate\n",
      "0    255027\n",
      "1    149263\n",
      "Name: count, dtype: int64\n",
      "is_duplicate\n",
      "0    63.080215\n",
      "1    36.919785\n",
      "Name: count, dtype: float64\n"
     ]
    }
   ],
   "source": [
    "#check how many duplicate and non-duplicate questions.\n",
    "print(df['is_duplicate'].value_counts())\n",
    "print((df['is_duplicate'].value_counts()/df['is_duplicate'].count())*100)\n"
   ]
  },
  {
   "cell_type": "code",
   "execution_count": 83,
   "id": "516825a9-fbb8-4eba-99d9-fcf70054f752",
   "metadata": {},
   "outputs": [
    {
     "name": "stdout",
     "output_type": "stream",
     "text": [
      "Number of unique questions 808580\n",
      "Number of questions getting repeated 111780\n"
     ]
    }
   ],
   "source": [
    "#calculating total reapitimg questions??\n",
    "\n",
    "qid = pd.Series(df['qid1'].tolist() + df['qid2'].tolist())\n",
    "print('Number of unique questions',(qid).shape[0])\n",
    "x = qid.value_counts()>1\n",
    "print('Number of questions getting repeated',x[x].shape[0])"
   ]
  },
  {
   "cell_type": "code",
   "execution_count": 84,
   "id": "c4e514e6-0e3d-4f60-af47-970044f94263",
   "metadata": {},
   "outputs": [
    {
     "data": {
      "text/plain": [
       "id              0\n",
       "qid1            0\n",
       "qid2            0\n",
       "question1       1\n",
       "question2       2\n",
       "is_duplicate    0\n",
       "dtype: int64"
      ]
     },
     "execution_count": 84,
     "metadata": {},
     "output_type": "execute_result"
    }
   ],
   "source": [
    "df.isnull().sum()"
   ]
  },
  {
   "cell_type": "code",
   "execution_count": 85,
   "id": "c72f144a-2ddd-4b45-b968-397b0aff9106",
   "metadata": {},
   "outputs": [],
   "source": [
    "df = df.sample(20000)"
   ]
  },
  {
   "cell_type": "code",
   "execution_count": 86,
   "id": "df57a8cb-8691-4de4-9904-c6070e14ff6c",
   "metadata": {},
   "outputs": [
    {
     "ename": "SyntaxError",
     "evalue": "invalid syntax (2374418666.py, line 1)",
     "output_type": "error",
     "traceback": [
      "\u001b[1;36m  Cell \u001b[1;32mIn[86], line 1\u001b[1;36m\u001b[0m\n\u001b[1;33m    df.isnull().\u001b[0m\n\u001b[1;37m                ^\u001b[0m\n\u001b[1;31mSyntaxError\u001b[0m\u001b[1;31m:\u001b[0m invalid syntax\n"
     ]
    }
   ],
   "source": [
    "df.isnull()."
   ]
  },
  {
   "cell_type": "code",
   "execution_count": null,
   "id": "dfe57319-7955-44f8-a655-f1a31502bfd6",
   "metadata": {},
   "outputs": [],
   "source": [
    "df.duplicated().sum()"
   ]
  },
  {
   "cell_type": "code",
   "execution_count": null,
   "id": "dc12310a-e5fa-44b0-9f1c-cf0a42484b2e",
   "metadata": {},
   "outputs": [],
   "source": [
    "#creating new dataframe for only question1 and question2..\n",
    "ques_df = df[['question1','question2']]\n",
    "ques_df.head()"
   ]
  },
  {
   "cell_type": "code",
   "execution_count": null,
   "id": "4c112c0f-b58c-437a-8096-b1ebec009bae",
   "metadata": {},
   "outputs": [],
   "source": [
    "from sklearn.feature_extraction.text import CountVectorizer\n",
    "#Making list of  questions with 20000 data sample.\n",
    "questions = list(ques_df['question1']) + list(ques_df['question2'])\n",
    "\n",
    "cv = CountVectorizer(max_features=3000)\n",
    "#splitting the question into two parts each part is of 20000 questions.\n",
    "q1_arr, q2_arr = np.vsplit(cv.fit_transform(questions).toarray(),2)"
   ]
  },
  {
   "cell_type": "code",
   "execution_count": null,
   "id": "60bb4896-1e2c-476a-8ef8-f0bf01c01baf",
   "metadata": {},
   "outputs": [],
   "source": [
    "temp_df1 = pd.DataFrame(q1_arr, index= ques_df.index)\n",
    "temp_df2 = pd.DataFrame(q2_arr, index= ques_df.index)\n",
    "temp_df = pd.concat([temp_df1, temp_df2], axis=1)\n",
    "temp_df.shape "
   ]
  },
  {
   "cell_type": "code",
   "execution_count": null,
   "id": "4a3770a4-5dd3-485e-b686-78ea874d3a5a",
   "metadata": {},
   "outputs": [],
   "source": [
    "temp_df"
   ]
  },
  {
   "cell_type": "code",
   "execution_count": null,
   "id": "24a0871d-3aea-4631-87b5-04b922fae080",
   "metadata": {},
   "outputs": [],
   "source": [
    "from sklearn.model_selection import train_test_split\n",
    "X_train,X_test,y_train,y_test = train_test_split(temp_df.iloc[:,0:-1].values,temp_df.iloc[:,-1].values,test_size=0.2,random_state=1)"
   ]
  },
  {
   "cell_type": "code",
   "execution_count": null,
   "id": "75887b31-d4eb-41ea-ae4c-f7269b2561ae",
   "metadata": {},
   "outputs": [],
   "source": [
    "from sklearn.ensemble import RandomForestClassifier\n",
    "from sklearn.metrics import accuracy_score\n",
    "rf = RandomForestClassifier()\n",
    "rf.fit(X_train,y_train)\n",
    "y_pred = rf.predict(X_test)\n",
    "accuracy_score(y_test,y_pred)"
   ]
  },
  {
   "cell_type": "code",
   "execution_count": null,
   "id": "70b79d1b-8692-47c8-bdb9-3e0691431f30",
   "metadata": {},
   "outputs": [],
   "source": [
    "temp_df['is_duplicate'] = df['is_duplicate']"
   ]
  },
  {
   "cell_type": "code",
   "execution_count": null,
   "id": "0d815c77-d209-47af-ba00-24a1d9fb6bf0",
   "metadata": {},
   "outputs": [],
   "source": [
    "temp_df.head()"
   ]
  },
  {
   "cell_type": "code",
   "execution_count": null,
   "id": "b8831a72-d5a8-424f-9687-c9e109007954",
   "metadata": {},
   "outputs": [],
   "source": [
    "from sklearn.model_selection import train_test_split\n",
    "X_train,X_test,y_train,y_test = train_test_split(temp_df.iloc[:,0:-1].values,temp_df.iloc[:,-1].values,test_size=0.2,random_state=1)"
   ]
  },
  {
   "cell_type": "code",
   "execution_count": null,
   "id": "d1dbe452-0598-4102-b26d-ebd0f47be3fb",
   "metadata": {},
   "outputs": [],
   "source": [
    "from sklearn.ensemble import RandomForestClassifier\n",
    "from sklearn.metrics import accuracy_score\n",
    "rf = RandomForestClassifier()\n",
    "rf.fit(X_train,y_train)\n",
    "y_pred = rf.predict(X_test)\n",
    "accuracy_score(y_test,y_pred)"
   ]
  },
  {
   "cell_type": "code",
   "execution_count": null,
   "id": "84b77c3b-65d2-4c21-b3f9-362991b00696",
   "metadata": {},
   "outputs": [],
   "source": []
  },
  {
   "cell_type": "code",
   "execution_count": null,
   "id": "6fe7dcbe-60d0-4fd4-a750-85bc08bff62a",
   "metadata": {},
   "outputs": [],
   "source": []
  }
 ],
 "metadata": {
  "kernelspec": {
   "display_name": "Python 3 (ipykernel)",
   "language": "python",
   "name": "python3"
  },
  "language_info": {
   "codemirror_mode": {
    "name": "ipython",
    "version": 3
   },
   "file_extension": ".py",
   "mimetype": "text/x-python",
   "name": "python",
   "nbconvert_exporter": "python",
   "pygments_lexer": "ipython3",
   "version": "3.12.3"
  }
 },
 "nbformat": 4,
 "nbformat_minor": 5
}
